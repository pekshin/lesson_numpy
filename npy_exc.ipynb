{
 "cells": [
  {
   "cell_type": "markdown",
   "metadata": {},
   "source": [
    "# `numpy` practice"
   ]
  },
  {
   "cell_type": "code",
   "execution_count": 1,
   "metadata": {
    "collapsed": true
   },
   "outputs": [],
   "source": [
    "import numpy as np"
   ]
  },
  {
   "cell_type": "markdown",
   "metadata": {},
   "source": [
    "1. Do numpy exercises 6, 8, 9 and 19.\n",
    "\n",
    "1. numpy exercise 44.\n",
    "\n",
    "1. A snail curve is defined by the following equation in polar coordinates: $r = a + \\cos\\phi$. Plot the curve on an $x$-$y$ plane for several values of $a$. (Hint: `np.linspace` creates a linearly spaced array of values)\n",
    "\n",
    "2. A *cochleoid* curve is defined by the following equation in polar coordinates: $r = a \\dfrac{\\sin\\phi} {\\phi }$. Plot the curve on an $x$-$y$ plane. (Hint: use `np.where` to work around division by zero).\n",
    "\n",
    "3. Given two arrays, `u` and `v`, construct the Cauchy matrix using broadcasting.\n",
    "\n",
    "4. See \"Monte Carlo Error propagation\" (separate html)"
   ]
  },
  {
   "cell_type": "code",
   "execution_count": null,
   "metadata": {
    "collapsed": true
   },
   "outputs": [],
   "source": []
  }
 ],
 "metadata": {
  "kernelspec": {
   "display_name": "Python 3",
   "language": "python",
   "name": "python3"
  },
  "language_info": {
   "codemirror_mode": {
    "name": "ipython",
    "version": 3
   },
   "file_extension": ".py",
   "mimetype": "text/x-python",
   "name": "python",
   "nbconvert_exporter": "python",
   "pygments_lexer": "ipython3",
   "version": "3.5.1"
  }
 },
 "nbformat": 4,
 "nbformat_minor": 0
}
